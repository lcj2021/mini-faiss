{
 "cells": [
  {
   "cell_type": "code",
   "execution_count": 13,
   "metadata": {},
   "outputs": [],
   "source": [
    "from vector_io import *\n",
    "import numpy as np\n",
    "\n",
    "# query = fvecs_read(\"/RF/dataset/sift/sift1m_pq128_100k_kc1000_seg20_sample/train_query.fvecs\")\n",
    "# sample = ivecs_read(\"/RF/dataset/sift/sift1m_pq128_100k_kc1000_seg20_sample/train_sample.ivecs\")\n",
    "# radius = ivecs_read(\"/RF/dataset/sift/sift1m_pq128_100k_kc1000_seg20_sample/train_radius.ivecs\")\n",
    "# distance = fvecs_read(\"/RF/dataset/sift/sift1m_pq128_100k_kc1000_seg20_sample/train_distance.fvecs\")\n",
    "\n",
    "query = fvecs_read(\"/RF/dataset/sift/sift1m_pq128_10k_kc1000_seg20_sample/tuning_query.fvecs\")\n",
    "# sample = ivecs_read(\"/RF/dataset/sift/sift1m_pq128_10k_kc1000_seg20_sample/tuning_sample.ivecs\")\n",
    "# radius = ivecs_read(\"/RF/dataset/sift/sift1m_pq128_10k_kc1000_seg20_sample/tuning_radius.ivecs\")\n",
    "# distance = fvecs_read(\"/RF/dataset/sift/sift1m_pq128_10k_kc1000_seg20_sample/tuning_distance.fvecs\")\n",
    "\n",
    "# pred = ivecs_read(\"/RF/dataset/sift/sift1m_pq128_100k_kc1000_seg20_sample/pred.ivecs\")\n",
    "\n",
    "# print(sample[0][0:1000])\n",
    "# print(np.count_nonzero(sample[0][0:1000]))\n",
    "# print(radius[0][0:1000])\n",
    "# print(np.count_nonzero(radius[0][0:1000]))\n",
    "# print(distance[0][0:1000])\n",
    "# print(query[0][0:])\n",
    "# print(query.shape)\n",
    "# print(sample.shape)\n",
    "# print(radius[0])\n",
    "# print(\"pred: \\n\", pred[0])\n"
   ]
  },
  {
   "cell_type": "code",
   "execution_count": 14,
   "metadata": {},
   "outputs": [
    {
     "name": "stdout",
     "output_type": "stream",
     "text": [
      "(100000, 1000)\n",
      "[109. 218. 290. 204. 107. 303.  81. 156. 191. 184. 227. 249.  67. 103.\n",
      " 195.  76. 135. 150.  22.  94. 212. 229. 396. 101. 421. 228. 196. 396.\n",
      " 118. 360. 148. 185.  87. 337. 542.  99. 225. 200. 199. 301.  81. 432.\n",
      "  44. 340. 290. 187. 442. 463.  71. 116. 173.  50.  95. 405.  98. 112.\n",
      " 121. 351. 310. 288. 168. 401. 138. 118. 268. 214. 213. 219. 173. 178.\n",
      " 420. 110. 373. 150. 130.  38. 462.  91. 198. 132.  43. 139. 214. 308.\n",
      " 471. 105. 196.  56. 148. 121. 164. 170. 320. 121. 189. 166. 222. 204.\n",
      " 204.  44. 123.  99. 475. 169. 190.  79.  84. 183. 172. 111.  59. 146.\n",
      " 142. 103. 176. 208. 102. 518. 126.  34. 271.  44. 201. 383. 207. 170.\n",
      " 183. 196. 165.  52. 194. 194. 152.  95. 263. 131. 350. 236. 126.  49.\n",
      " 128. 271. 200.  70. 318. 131. 409.  16.  26. 258. 106. 142. 117. 201.\n",
      " 305. 212. 389. 193. 124.  53. 593. 168. 224. 202. 241. 219. 283.  86.\n",
      "  32. 178.  91. 155. 112. 175. 391. 205. 188. 132.  87. 109. 284. 241.\n",
      " 157. 326.  96. 198. 156. 144. 158. 142.  27. 152. 215.  77.  77. 398.\n",
      " 185. 583. 374. 106. 119. 447. 200. 122.  36.  99. 130. 143. 220. 366.\n",
      " 264. 192. 148. 128. 130. 297. 362. 138. 144. 218. 177. 123. 193. 189.\n",
      " 191. 217. 145. 160. 213. 185. 314.  83. 320.  55. 121. 130. 223. 190.\n",
      "  83. 166. 254. 480. 210. 198. 164.  80. 303. 347. 130. 163. 145. 172.\n",
      "  50. 176. 179. 178. 177. 159. 209. 350. 143. 116. 149.  59. 207. 129.\n",
      " 148. 149. 473. 274. 187. 141. 187. 144.  95.  49. 168.  76. 155. 135.\n",
      " 226. 399. 606.  34.  60. 108. 205. 138. 119. 133.  24. 138. 265.  61.\n",
      " 237. 190.  62. 233. 140. 476. 434. 212.  39. 222. 171. 134. 245. 210.\n",
      "  66.  51. 156. 327.  71. 150. 142. 290. 362. 195. 123. 392. 163. 126.\n",
      " 102.  93. 445. 145. 176. 229. 135. 159.  55. 141. 285.  13. 116. 122.\n",
      " 181.  57. 214.  67. 153. 255. 167. 142. 274. 163. 150.  72.  91. 300.\n",
      " 371. 240. 413.  71. 117. 128. 122. 292. 152. 123.  63.  74. 207. 178.\n",
      " 395. 135. 344.  76.  87. 170. 121. 193. 205. 249. 102. 235. 570. 233.\n",
      "  87.  99. 676. 203. 259. 215. 305.  79. 212.  77.  83. 173. 138. 256.\n",
      " 105. 144. 443. 123. 238. 214. 158. 142. 196.  65. 421.  53. 150. 265.\n",
      " 195. 350. 179. 137. 164. 131. 431. 182. 409. 321. 103. 238.  26. 111.\n",
      " 113. 236. 187. 135. 516. 228. 140. 121. 222. 132. 233.  35. 240. 259.\n",
      " 291. 251. 132. 309. 471. 142. 176. 136. 137.  99. 224. 165. 131. 171.\n",
      " 235. 200. 276. 605.  66. 383. 284. 207.  79. 136. 302. 276. 202.  95.\n",
      " 106. 115. 153. 495. 206. 201. 181.  95. 114. 256.  60. 425. 128. 183.\n",
      "  45.  76.  99.  91. 141. 128. 271. 131. 226. 172. 250. 130. 372. 569.\n",
      " 145. 265. 234. 160. 412. 177. 215. 208. 165. 177.  93. 217. 158. 163.\n",
      " 218. 185. 175. 137.  68. 305. 133.  98. 124. 105.  58.  39. 313. 104.\n",
      " 166. 120. 130. 125. 417. 187. 498. 176. 186. 240. 169.  95.  56. 299.\n",
      " 281.  38. 289. 177.  36. 362. 214. 128. 116. 124. 171. 144. 207. 146.\n",
      "  31. 168. 215. 160. 268. 156. 251. 154. 248. 167. 178.  69. 413. 224.\n",
      " 178. 349.  33. 149. 159. 402.  62. 230.  41. 123. 167.  18.  43. 244.\n",
      " 176. 130. 373. 111. 126. 137. 124. 109. 192. 112. 361.  34. 197. 207.\n",
      " 114. 203.  13. 117. 190.  52.  74.  36. 154. 125. 301. 131.  88. 238.\n",
      " 371. 305. 243. 290. 170. 101. 509. 132. 294.  93. 728. 161. 118. 236.\n",
      " 307. 139.  37. 156. 180. 239. 194. 155. 184. 244. 188. 144. 731.  58.\n",
      " 125. 127.  64. 160.  96. 270. 160. 123. 309. 133.  47. 235. 131. 163.\n",
      " 110. 282. 239. 269. 253. 262. 191. 228. 154. 275. 324. 370. 202. 136.\n",
      " 216. 141. 272. 322. 162.  87. 297. 115. 160. 532. 185. 316.  25. 165.\n",
      " 291. 220.  55. 285. 412. 102. 226. 208. 149. 195.  56. 121.  69. 236.\n",
      " 255. 194. 177.  67. 195. 210. 106. 208. 188. 146. 114.  97. 133. 213.\n",
      "  83. 294. 255. 164.  59. 138. 261. 114. 274. 150. 476. 147.  79. 234.\n",
      " 261. 151. 342. 139. 113. 188. 424.  24. 174. 209. 169. 116. 106. 199.\n",
      " 269. 247. 127. 154. 118. 209. 152. 161.  90. 157.  91.  57. 139. 140.\n",
      " 149. 235. 149. 516.  78. 167. 259. 199. 227. 103. 221. 231. 135. 252.\n",
      " 222. 262.  58. 269. 207. 131. 136. 224. 259. 142. 231.  65.  86. 184.\n",
      "  65. 126. 104. 169.  60. 157. 255. 590.  40.  96. 215. 168. 201. 216.\n",
      " 150. 148. 289. 200. 281. 131. 152. 148.  44. 248. 168. 121. 128. 251.\n",
      "  81. 230. 239. 121. 155. 202. 595. 297. 200. 369.  99. 322. 266. 201.\n",
      " 150. 342.  78.  90. 135. 352. 154. 182. 102. 227. 219. 206. 200. 119.\n",
      " 180. 175. 117.  12. 166. 303. 158. 184. 114. 209.  84. 473. 400. 285.\n",
      "  63. 128. 278. 203. 144. 134. 392. 200. 430. 119. 194. 136. 214. 171.\n",
      " 120. 115. 203. 192. 148. 145. 174. 108. 110. 241. 391. 314. 396. 135.\n",
      " 138. 389.  23. 108. 179. 240.  55. 198.  82. 295. 320.  93. 486. 102.\n",
      " 160. 157. 159. 243. 109. 323.  51. 576. 152. 363. 175. 131. 192. 194.\n",
      " 314.  60. 280. 123. 366. 159.  52.  79. 147. 255. 261. 116. 153.  39.\n",
      "  80. 177. 122. 346. 134. 258. 178.  51. 221. 182. 153.  85. 480. 244.\n",
      " 105. 200.  59. 185. 294. 501. 152.  91. 105. 235. 231. 539. 117.  29.\n",
      " 101.  28. 131. 293.  75. 105. 268.  17. 182. 164. 281. 195. 188. 180.\n",
      " 526. 291. 254. 365. 175. 149. 156. 308. 238. 542.  77. 487. 320. 280.\n",
      " 288. 234.  89. 136. 102. 194. 180. 261.  97. 102. 189. 129. 135. 196.\n",
      " 268.  13. 292. 195. 185. 128. 428. 223. 139. 328. 202. 186.  14. 366.\n",
      " 190. 126. 203. 130. 102. 189.]\n"
     ]
    }
   ],
   "source": [
    "train_cnt4cluster = np.zeros(1000)\n",
    "print(radius.shape)\n",
    "# for i in range(radius.shape[0]):\n",
    "for i in range(10 * 10 ** 3):\n",
    "    for j in range(radius.shape[1]):\n",
    "        if radius[i][j] != 0:\n",
    "            train_cnt4cluster[j] += 1\n",
    "\n",
    "print(train_cnt4cluster)\n"
   ]
  },
  {
   "cell_type": "code",
   "execution_count": 16,
   "metadata": {},
   "outputs": [],
   "source": [
    "train_cnt4cluster = sorted(train_cnt4cluster, reverse=True)\n"
   ]
  },
  {
   "cell_type": "code",
   "execution_count": 17,
   "metadata": {},
   "outputs": [
    {
     "name": "stdout",
     "output_type": "stream",
     "text": [
      "731.0 12.0\n"
     ]
    },
    {
     "data": {
      "image/png": "[encoded data removed]",
      "text/plain": [
       "<Figure size 640x480 with 1 Axes>"
      ]
     },
     "metadata": {},
     "output_type": "display_data"
    }
   ],
   "source": [
    "print(max(train_cnt4cluster), min(train_cnt4cluster))\n",
    "# print(train_cnt4cluster)\n",
    "\n",
    "import matplotlib.pyplot as plt\n",
    "\n",
    "# # 设置分桶的数量和区间\n",
    "# num_bins = 100\n",
    "# bins = np.linspace(train_cnt4cluster.min(), train_cnt4cluster.max(), num_bins)\n",
    "\n",
    "# # 绘制柱状图\n",
    "# plt.hist(train_cnt4cluster, bins=bins, alpha=0.5, color='b', edgecolor='black')\n",
    "\n",
    "\n",
    "x = [i for i in range(len(train_cnt4cluster))]\n",
    "plt.bar(x, train_cnt4cluster)\n",
    "\n",
    "plt.title('train_cnt4cluster_10k_query')\n",
    "plt.xlabel('Frequency')\n",
    "plt.ylabel('Hit count')\n",
    "\n",
    "plt.savefig(\"train_cnt4cluster_10k_query.jpg\", dpi=300)\n",
    "# 显示图形\n",
    "plt.show()"
   ]
  }
 ],
 "metadata": {
  "kernelspec": {
   "display_name": "base",
   "language": "python",
   "name": "python3"
  },
  "language_info": {
   "codemirror_mode": {
    "name": "ipython",
    "version": 3
   },
   "file_extension": ".py",
   "mimetype": "text/x-python",
   "name": "python",
   "nbconvert_exporter": "python",
   "pygments_lexer": "ipython3",
   "version": "3.11.3"
  },
  "orig_nbformat": 4
 },
 "nbformat": 4,
 "nbformat_minor": 2
}
